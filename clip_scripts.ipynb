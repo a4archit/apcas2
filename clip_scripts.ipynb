{
 "cells": [
  {
   "cell_type": "markdown",
   "id": "949ba71e",
   "metadata": {},
   "source": [
    "# CLIP as Module `Grok`"
   ]
  },
  {
   "cell_type": "code",
   "execution_count": 8,
   "id": "a155a7f0",
   "metadata": {},
   "outputs": [],
   "source": [
    "from langchain_core.embeddings import Embeddings\n",
    "from transformers import CLIPProcessor, CLIPModel\n",
    "import torch\n",
    "from langchain_community.vectorstores import FAISS\n",
    "import json\n",
    "\n",
    "import os\n",
    "import glob\n",
    "import torch\n",
    "import open_clip # open_clip_torch\n",
    "from PIL import Image\n",
    "import faiss\n",
    "from langchain_community.vectorstores import FAISS\n",
    "from openai import AzureOpenAI\n",
    "import numpy as np\n",
    "from base64 import b64encode"
   ]
  },
  {
   "cell_type": "code",
   "execution_count": 9,
   "id": "bec74ccb",
   "metadata": {},
   "outputs": [],
   "source": [
    "\n",
    "class CLIPImageEmbeddings(Embeddings):\n",
    "    def __init__(self, model_name=\"openai/clip-vit-base-patch32\"):\n",
    "        self.model = CLIPModel.from_pretrained(model_name)\n",
    "        self.processor = CLIPProcessor.from_pretrained(model_name)\n",
    "        self.device = \"cuda\" if torch.cuda.is_available() else \"cpu\"\n",
    "        self.model.to(self.device)\n",
    "\n",
    "    def embed_documents(self, texts):\n",
    "        # For text-based documents (not used here)\n",
    "        inputs = self.processor(text=texts, return_tensors=\"pt\", padding=True, truncation=True).to(self.device)\n",
    "        with torch.no_grad():\n",
    "            embeddings = self.model.get_text_features(**inputs).cpu().numpy()\n",
    "        return embeddings.tolist()\n",
    "\n",
    "    def embed_query(self, text):\n",
    "        inputs = self.processor(text=[text], return_tensors=\"pt\", padding=True, truncation=True).to(self.device)\n",
    "        with torch.no_grad():\n",
    "            embedding = self.model.get_text_features(**inputs).cpu().numpy()[0]\n",
    "        return embedding.tolist()\n",
    "\n",
    "    def embed_image(self, image_path):\n",
    "        image = Image.open(image_path)\n",
    "        inputs = self.processor(images=image, return_tensors=\"pt\").to(self.device)\n",
    "        with torch.no_grad():\n",
    "            embedding = self.model.get_image_features(**inputs).cpu().numpy()[0]\n",
    "        return embedding.tolist()\n",
    "\n"
   ]
  },
  {
   "cell_type": "code",
   "execution_count": 10,
   "id": "21361a3e",
   "metadata": {},
   "outputs": [],
   "source": [
    "# Update encode_and_store_content to use image embeddings\n",
    "def encode_and_store_content(text_data, image_data, table_data, output_folder=\"original_docs\"):\n",
    "    clip_model = CLIPImageEmbeddings()\n",
    "    documents = []\n",
    "    metadata = []\n",
    "    \n",
    "    # Text\n",
    "    for item in text_data:\n",
    "        doc = Document(page_content=item[\"content\"], metadata={\"type\": \"text\", \"page\": item[\"page\"]})\n",
    "        documents.append(doc)\n",
    "        metadata.append({\"type\": \"text\", \"page\": item[\"page\"], \"content\": item[\"content\"]})\n",
    "\n",
    "    # Images\n",
    "    for item in image_data:\n",
    "        doc = Document(page_content=item[\"ocr_text\"], metadata={\"type\": \"image\", \"page\": item[\"page\"], \"path\": item[\"path\"]})\n",
    "        documents.append(doc)\n",
    "        metadata.append({\"type\": \"image\", \"page\": item[\"page\"], \"path\": item[\"path\"], \"ocr_text\": item[\"ocr_text\"]})\n",
    "\n",
    "    # Tables\n",
    "    for item in table_data:\n",
    "        with open(item[\"path\"], \"r\") as f:\n",
    "            table_text = f.read()\n",
    "        doc = Document(page_content=table_text, metadata={\"type\": \"table\", \"page\": item[\"page\"], \"path\": item[\"path\"]})\n",
    "        documents.append(doc)\n",
    "        metadata.append({\"type\": \"table\", \"page\": item[\"page\"], \"path\": item[\"path\"]})\n",
    "\n",
    "    vector_store = FAISS.from_documents(documents, clip_model)\n",
    "    vector_store.save_local(\"faiss_index\")\n",
    "    with open(\"metadata.json\", \"w\") as f:\n",
    "        json.dump(metadata, f)\n",
    "\n",
    "    return clip_model, vector_store"
   ]
  },
  {
   "cell_type": "code",
   "execution_count": 11,
   "id": "4e185531",
   "metadata": {},
   "outputs": [],
   "source": [
    "model = CLIPImageEmbeddings()"
   ]
  },
  {
   "cell_type": "code",
   "execution_count": 12,
   "id": "e7a3dfc8",
   "metadata": {},
   "outputs": [],
   "source": [
    "embeds = model.embed_image('images/09a9f4be-8057-43d7-bdf2-a20404ab2165.png')"
   ]
  },
  {
   "cell_type": "code",
   "execution_count": null,
   "id": "9421c664",
   "metadata": {},
   "outputs": [],
   "source": []
  }
 ],
 "metadata": {
  "kernelspec": {
   "display_name": "venv",
   "language": "python",
   "name": "python3"
  },
  "language_info": {
   "codemirror_mode": {
    "name": "ipython",
    "version": 3
   },
   "file_extension": ".py",
   "mimetype": "text/x-python",
   "name": "python",
   "nbconvert_exporter": "python",
   "pygments_lexer": "ipython3",
   "version": "3.12.3"
  }
 },
 "nbformat": 4,
 "nbformat_minor": 5
}
