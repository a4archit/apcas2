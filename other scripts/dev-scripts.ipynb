{
 "cells": [
  {
   "cell_type": "markdown",
   "id": "f44b8667",
   "metadata": {},
   "source": [
    "# Multimodal RAG development scripts"
   ]
  },
  {
   "cell_type": "code",
   "execution_count": 5,
   "id": "cc5b2b95",
   "metadata": {},
   "outputs": [],
   "source": [
    "import fitz\n",
    "import os"
   ]
  },
  {
   "cell_type": "markdown",
   "id": "14b69a1d",
   "metadata": {},
   "source": [
    "### Image extraction from PDF"
   ]
  },
  {
   "cell_type": "code",
   "execution_count": 9,
   "id": "07980ae1",
   "metadata": {},
   "outputs": [],
   "source": [
    "# import fitz  # PyMuPDF\n",
    "# import os\n",
    "\n",
    "def extract_images_from_pdf(pdf_path: str, output_folder: str, verbose: bool = True) -> None:\n",
    "    \"\"\" This will save the availabel images in the provided PDF after extraction\n",
    "\n",
    "    Args:\n",
    "        pdf_path (str): path of PDF\n",
    "        output_folder (str): path of folder that will contains the extracted images\n",
    "    \"\"\"\n",
    "\n",
    "    # Open the PDF\n",
    "    pdf_doc = fitz.open(pdf_path)\n",
    "    if verbose:\n",
    "        print(f\"Total pages: {pdf_doc.page_count}\")\n",
    "\n",
    "    for page_num in range(len(pdf_doc)):\n",
    "        page = pdf_doc[page_num]\n",
    "        images = page.get_images(full=True)\n",
    "        \n",
    "        if verbose:\n",
    "            print(f\"Page {page_num + 1} has {len(images)} images\")\n",
    "\n",
    "        for img_index, img in enumerate(images):\n",
    "            xref = img[0]\n",
    "            base_image = pdf_doc.extract_image(xref)\n",
    "            image_bytes = base_image[\"image\"]\n",
    "            image_ext = base_image[\"ext\"]\n",
    "            image_filename = f\"page{page_num + 1}_img{img_index + 1}.{image_ext}\"\n",
    "            image_filepath = os.path.join(output_folder, image_filename)\n",
    "\n",
    "            with open(image_filepath, \"wb\") as f:\n",
    "                f.write(image_bytes)\n",
    "                if verbose:\n",
    "                    print(f\"Saved: {image_filepath}\")\n",
    "\n",
    "    pdf_doc.close()\n",
    "\n"
   ]
  },
  {
   "cell_type": "code",
   "execution_count": 10,
   "id": "ababf0ca",
   "metadata": {},
   "outputs": [
    {
     "name": "stdout",
     "output_type": "stream",
     "text": [
      "Total pages: 11\n",
      "Page 1 has 0 images\n",
      "Page 2 has 0 images\n",
      "Page 3 has 1 images\n",
      "Saved: extracted_images/page3_img1.png\n",
      "Page 4 has 2 images\n",
      "Saved: extracted_images/page4_img1.png\n",
      "Saved: extracted_images/page4_img2.png\n",
      "Page 5 has 0 images\n",
      "Page 6 has 0 images\n",
      "Page 7 has 0 images\n",
      "Page 8 has 0 images\n",
      "Page 9 has 0 images\n",
      "Page 10 has 0 images\n",
      "Page 11 has 0 images\n"
     ]
    }
   ],
   "source": [
    "\n",
    "# Example usage\n",
    "extract_images_from_pdf(\"./content/attention.pdf\", \"extracted_images\")"
   ]
  },
  {
   "cell_type": "code",
   "execution_count": 21,
   "id": "de794302",
   "metadata": {},
   "outputs": [
    {
     "ename": "ValueError",
     "evalue": "Could not get image data for /home/archit-elitebook/workarea/whole working/genai/projects/mmrag/extracted_images",
     "output_type": "error",
     "traceback": [
      "\u001b[31m---------------------------------------------------------------------------\u001b[39m",
      "\u001b[31mIsADirectoryError\u001b[39m                         Traceback (most recent call last)",
      "\u001b[36mFile \u001b[39m\u001b[32m~/workarea/whole working/genai/projects/mmrag/venv/lib/python3.12/site-packages/langchain_community/document_loaders/image_captions.py:85\u001b[39m, in \u001b[36mImageCaptionLoader._get_captions_and_metadata\u001b[39m\u001b[34m(self, model, processor, image)\u001b[39m\n\u001b[32m     84\u001b[39m     \u001b[38;5;28;01melse\u001b[39;00m:\n\u001b[32m---> \u001b[39m\u001b[32m85\u001b[39m         image = \u001b[43mImage\u001b[49m\u001b[43m.\u001b[49m\u001b[43mopen\u001b[49m\u001b[43m(\u001b[49m\u001b[43mimage\u001b[49m\u001b[43m)\u001b[49m.convert(\u001b[33m\"\u001b[39m\u001b[33mRGB\u001b[39m\u001b[33m\"\u001b[39m)\n\u001b[32m     86\u001b[39m \u001b[38;5;28;01mexcept\u001b[39;00m \u001b[38;5;167;01mException\u001b[39;00m:\n",
      "\u001b[36mFile \u001b[39m\u001b[32m~/workarea/whole working/genai/projects/mmrag/venv/lib/python3.12/site-packages/PIL/Image.py:3513\u001b[39m, in \u001b[36mopen\u001b[39m\u001b[34m(fp, mode, formats)\u001b[39m\n\u001b[32m   3512\u001b[39m filename = os.fspath(fp)\n\u001b[32m-> \u001b[39m\u001b[32m3513\u001b[39m fp = \u001b[43mbuiltins\u001b[49m\u001b[43m.\u001b[49m\u001b[43mopen\u001b[49m\u001b[43m(\u001b[49m\u001b[43mfilename\u001b[49m\u001b[43m,\u001b[49m\u001b[43m \u001b[49m\u001b[33;43m\"\u001b[39;49m\u001b[33;43mrb\u001b[39;49m\u001b[33;43m\"\u001b[39;49m\u001b[43m)\u001b[49m\n\u001b[32m   3514\u001b[39m exclusive_fp = \u001b[38;5;28;01mTrue\u001b[39;00m\n",
      "\u001b[31mIsADirectoryError\u001b[39m: [Errno 21] Is a directory: '/home/archit-elitebook/workarea/whole working/genai/projects/mmrag/extracted_images'",
      "\nDuring handling of the above exception, another exception occurred:\n",
      "\u001b[31mValueError\u001b[39m                                Traceback (most recent call last)",
      "\u001b[36mCell\u001b[39m\u001b[36m \u001b[39m\u001b[32mIn[21]\u001b[39m\u001b[32m, line 5\u001b[39m\n\u001b[32m      3\u001b[39m \u001b[38;5;66;03m# Suppose you saved images in ./output_images\u001b[39;00m\n\u001b[32m      4\u001b[39m loader = ImageCaptionLoader(images=[\u001b[33m\"\u001b[39m\u001b[33m/home/archit-elitebook/workarea/whole working/genai/projects/mmrag/extracted_images\u001b[39m\u001b[33m\"\u001b[39m])\n\u001b[32m----> \u001b[39m\u001b[32m5\u001b[39m docs = \u001b[43mloader\u001b[49m\u001b[43m.\u001b[49m\u001b[43mload\u001b[49m\u001b[43m(\u001b[49m\u001b[43m)\u001b[49m\n\u001b[32m      7\u001b[39m \u001b[38;5;66;03m# print(docs[0].page_content)  # This is the captioned text\u001b[39;00m\n",
      "\u001b[36mFile \u001b[39m\u001b[32m~/workarea/whole working/genai/projects/mmrag/venv/lib/python3.12/site-packages/langchain_community/document_loaders/image_captions.py:56\u001b[39m, in \u001b[36mImageCaptionLoader.load\u001b[39m\u001b[34m(self)\u001b[39m\n\u001b[32m     54\u001b[39m results = []\n\u001b[32m     55\u001b[39m \u001b[38;5;28;01mfor\u001b[39;00m image \u001b[38;5;129;01min\u001b[39;00m \u001b[38;5;28mself\u001b[39m.images:\n\u001b[32m---> \u001b[39m\u001b[32m56\u001b[39m     caption, metadata = \u001b[38;5;28;43mself\u001b[39;49m\u001b[43m.\u001b[49m\u001b[43m_get_captions_and_metadata\u001b[49m\u001b[43m(\u001b[49m\n\u001b[32m     57\u001b[39m \u001b[43m        \u001b[49m\u001b[43mmodel\u001b[49m\u001b[43m=\u001b[49m\u001b[43mmodel\u001b[49m\u001b[43m,\u001b[49m\u001b[43m \u001b[49m\u001b[43mprocessor\u001b[49m\u001b[43m=\u001b[49m\u001b[43mprocessor\u001b[49m\u001b[43m,\u001b[49m\u001b[43m \u001b[49m\u001b[43mimage\u001b[49m\u001b[43m=\u001b[49m\u001b[43mimage\u001b[49m\n\u001b[32m     58\u001b[39m \u001b[43m    \u001b[49m\u001b[43m)\u001b[49m\n\u001b[32m     59\u001b[39m     doc = Document(page_content=caption, metadata=metadata)\n\u001b[32m     60\u001b[39m     results.append(doc)\n",
      "\u001b[36mFile \u001b[39m\u001b[32m~/workarea/whole working/genai/projects/mmrag/venv/lib/python3.12/site-packages/langchain_community/document_loaders/image_captions.py:91\u001b[39m, in \u001b[36mImageCaptionLoader._get_captions_and_metadata\u001b[39m\u001b[34m(self, model, processor, image)\u001b[39m\n\u001b[32m     89\u001b[39m     \u001b[38;5;28;01melse\u001b[39;00m:\n\u001b[32m     90\u001b[39m         msg = \u001b[33mf\u001b[39m\u001b[33m\"\u001b[39m\u001b[33mCould not get image data for \u001b[39m\u001b[38;5;132;01m{\u001b[39;00mimage_source\u001b[38;5;132;01m}\u001b[39;00m\u001b[33m\"\u001b[39m\n\u001b[32m---> \u001b[39m\u001b[32m91\u001b[39m     \u001b[38;5;28;01mraise\u001b[39;00m \u001b[38;5;167;01mValueError\u001b[39;00m(msg)\n\u001b[32m     93\u001b[39m inputs = processor(image, \u001b[33m\"\u001b[39m\u001b[33man image of\u001b[39m\u001b[33m\"\u001b[39m, return_tensors=\u001b[33m\"\u001b[39m\u001b[33mpt\u001b[39m\u001b[33m\"\u001b[39m)\n\u001b[32m     94\u001b[39m output = model.generate(**inputs)\n",
      "\u001b[31mValueError\u001b[39m: Could not get image data for /home/archit-elitebook/workarea/whole working/genai/projects/mmrag/extracted_images"
     ]
    }
   ],
   "source": [
    "from langchain_community.document_loaders import ImageCaptionLoader\n",
    "\n",
    "# Suppose you saved images in ./output_images\n",
    "loader = ImageCaptionLoader(images=[\"/home/archit-elitebook/workarea/whole working/genai/projects/mmrag/extracted_images\"])\n",
    "docs = loader.load()\n",
    "\n",
    "# print(docs[0].page_content)  # This is the captioned text\n"
   ]
  },
  {
   "cell_type": "code",
   "execution_count": 22,
   "metadata": {},
   "outputs": [
    {
     "name": "stdout",
     "output_type": "stream",
     "text": [
      "an image of a diagram of a product [SEP]\n"
     ]
    }
   ],
   "source": [
    "\n",
    "# Your images directory\n",
    "images_dir = \"/home/archit-elitebook/workarea/whole working/genai/projects/mmrag/extracted_images\"\n",
    "\n",
    "# Get all image file paths\n",
    "image_files = [\n",
    "    os.path.join(images_dir, f)\n",
    "    for f in os.listdir(images_dir)\n",
    "    if f.lower().endswith(('.png', '.jpg', '.jpeg', '.webp'))\n",
    "]\n",
    "\n",
    "# Pass the list of image files\n",
    "loader = ImageCaptionLoader(images=image_files)\n",
    "docs = loader.load()\n",
    "\n",
    "print(docs[0].page_content)\n"
   ]
  },
  {
   "cell_type": "code",
   "execution_count": 24,
   "metadata": {},
   "outputs": [
    {
     "data": {
      "text/plain": [
       "Document(metadata={'image_path': '/home/archit-elitebook/workarea/whole working/genai/projects/mmrag/extracted_images/page4_img1.png'}, page_content='an image of a diagram of a product [SEP]')"
      ]
     },
     "execution_count": 24,
     "metadata": {},
     "output_type": "execute_result"
    }
   ],
   "source": [
    "docs[0]"
   ]
  },
  {
   "cell_type": "code",
   "execution_count": null,
   "metadata": {},
   "outputs": [],
   "source": []
  },
  {
   "cell_type": "code",
   "execution_count": null,
   "metadata": {},
   "outputs": [],
   "source": []
  },
  {
   "cell_type": "code",
   "execution_count": null,
   "id": "5ce9f448",
   "metadata": {},
   "outputs": [],
   "source": []
  },
  {
   "cell_type": "markdown",
   "id": "62c824c1",
   "metadata": {},
   "source": []
  }
 ],
 "metadata": {
  "kernelspec": {
   "display_name": "venv",
   "language": "python",
   "name": "python3"
  },
  "language_info": {
   "codemirror_mode": {
    "name": "ipython",
    "version": 3
   },
   "file_extension": ".py",
   "mimetype": "text/x-python",
   "name": "python",
   "nbconvert_exporter": "python",
   "pygments_lexer": "ipython3",
   "version": "3.12.3"
  }
 },
 "nbformat": 4,
 "nbformat_minor": 5
}
